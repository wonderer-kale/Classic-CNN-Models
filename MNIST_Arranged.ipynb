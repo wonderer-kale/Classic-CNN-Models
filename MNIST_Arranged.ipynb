{
 "cells": [
  {
   "cell_type": "markdown",
   "metadata": {},
   "source": [
    "# MNIST"
   ]
  },
  {
   "cell_type": "markdown",
   "metadata": {},
   "source": [
    "## Import Packages"
   ]
  },
  {
   "cell_type": "code",
   "execution_count": 1,
   "metadata": {},
   "outputs": [],
   "source": [
    "# Import packages used in this script\n",
    "import numpy as np\n",
    "import keras\n",
    "\n",
    "## Data, can also load images from other places\n",
    "from keras.datasets import mnist\n",
    "\n",
    "## Build model, load model\n",
    "from keras.models import Sequential, load_model\n",
    "\n",
    "## Dense -> Fully Connected\n",
    "from keras.layers import Dense, Conv2D, MaxPooling2D, Flatten\n",
    "\n",
    "## Activation functions\n",
    "from keras.layers import Dropout, LeakyReLU\n",
    "\n",
    "## Optimizers\n",
    "from keras.optimizers import RMSprop, Adam\n",
    "\n",
    "## Callbacks --- Save Model (one of its parameters)\n",
    "from keras.callbacks import ModelCheckpoint\n",
    "\n",
    "## Plot function\n",
    "import matplotlib.pyplot as plt"
   ]
  },
  {
   "cell_type": "markdown",
   "metadata": {},
   "source": [
    "  "
   ]
  },
  {
   "cell_type": "markdown",
   "metadata": {},
   "source": [
    "## Data Preprocessing"
   ]
  },
  {
   "cell_type": "code",
   "execution_count": 2,
   "metadata": {},
   "outputs": [
    {
     "name": "stdout",
     "output_type": "stream",
     "text": [
      "Shape of the training set: (60000, 28, 28)\n",
      "Shape of the testing set: (10000, 28, 28)\n",
      "Ground truth label (training set): [5 0 4 ... 5 6 8]\n",
      "Ground truth label (testing set): [7 2 1 ... 4 5 6]\n",
      "Shape of the training dataset: (60000, 28, 28, 1)\n",
      "Shape of the testing dataset: (10000, 28, 28, 1)\n",
      "One-hot label: [0. 0. 0. 0. 0. 0. 0. 1. 0. 0.]\n",
      "Shape of the One-hot label: (60000, 10), (10000, 10)\n"
     ]
    }
   ],
   "source": [
    "## Load mnist dataset, confirm the shape and the contents of the data\n",
    "(x_train, y_train), (x_test, y_test) = mnist.load_data()\n",
    "print(\"Shape of the training set: {}\".format(x_train.shape))\n",
    "print(\"Shape of the testing set: {}\".format(x_test.shape))\n",
    "print(\"Ground truth label (training set): {}\".format(y_train))\n",
    "print(\"Ground truth label (testing set): {}\".format(y_test))\n",
    "\n",
    "## Reshape data whilst normalizing the data in the range(0 ~ 1)\n",
    "x_train = x_train.reshape(-1, 28, 28, 1) / 255\n",
    "print(\"Shape of the training dataset: {}\".format(x_train.shape))\n",
    "## Reshape data whilst normalizing the data in the range(0 ~ 1)\n",
    "x_test = x_test.reshape(-1, 28, 28, 1) / 255\n",
    "print(\"Shape of the testing dataset: {}\".format(x_test.shape))\n",
    "\n",
    "## Encode integer label into one-hot vector\n",
    "## e.g. 3 -> [0. 0. 0. 1. 0. 0. 0. 0. 0. 0.]\n",
    "## e.g. 5 -> [0. 0. 0. 0. 0. 1. 0. 0. 0. 0.]\n",
    "y_train = keras.utils.to_categorical(y_train, 10)\n",
    "y_test = keras.utils.to_categorical(y_test, 10)\n",
    "print(\"One-hot label: {}\".format(y_test[0]))\n",
    "print(\"Shape of the One-hot label: {}, {}\".format(y_train.shape, y_test.shape))"
   ]
  },
  {
   "cell_type": "markdown",
   "metadata": {},
   "source": [
    "  "
   ]
  },
  {
   "cell_type": "markdown",
   "metadata": {},
   "source": [
    "## Build Model"
   ]
  },
  {
   "cell_type": "code",
   "execution_count": 3,
   "metadata": {},
   "outputs": [
    {
     "name": "stdout",
     "output_type": "stream",
     "text": [
      "Model: \"sequential\"\n",
      "_________________________________________________________________\n",
      "Layer (type)                 Output Shape              Param #   \n",
      "=================================================================\n",
      "conv_1 (Conv2D)              (None, 28, 28, 6)         156       \n",
      "_________________________________________________________________\n",
      "pooling_1 (MaxPooling2D)     (None, 14, 14, 6)         0         \n",
      "_________________________________________________________________\n",
      "conv_2 (Conv2D)              (None, 14, 14, 16)        2416      \n",
      "_________________________________________________________________\n",
      "pooling_2 (MaxPooling2D)     (None, 7, 7, 16)          0         \n",
      "_________________________________________________________________\n",
      "flatten (Flatten)            (None, 784)               0         \n",
      "_________________________________________________________________\n",
      "fs_1 (Dense)                 (None, 120)               94200     \n",
      "_________________________________________________________________\n",
      "fs_2 (Dense)                 (None, 84)                10164     \n",
      "_________________________________________________________________\n",
      "logit (Dense)                (None, 10)                850       \n",
      "=================================================================\n",
      "Total params: 107,786\n",
      "Trainable params: 107,786\n",
      "Non-trainable params: 0\n",
      "_________________________________________________________________\n"
     ]
    }
   ],
   "source": [
    "# Modified LeNet\n",
    "model = Sequential()  ## build model graph\n",
    "\n",
    "## Add the convolution layer (named conv_1) to the graph\n",
    "## Filter size = 5 * 5, channel = 6, activation function = relu\n",
    "## Weight initializer following normal distribution\n",
    "model.add(Conv2D(filters = 6, kernel_size = (5, 5), \n",
    "                 input_shape = (28, 28, 1),\n",
    "                 padding = 'same', activation = 'relu',\n",
    "                 kernel_initializer = 'he_normal', name = 'conv_1'))\n",
    "\n",
    "## Add the pooling layer (named pooling_1) to the graph\n",
    "## Filter size = 2 * 2, stride = 2\n",
    "## Not pad zero to the feature map boundary\n",
    "model.add(MaxPooling2D((2, 2), strides = 2, padding = 'valid',\n",
    "                       name = 'pooling_1'))\n",
    "\n",
    "## Add the convolution layer (named conv_2) to the graph\n",
    "## Filter size = 5 * 5, channel = 16, activation function = relu\n",
    "## Weight initializer following normal distribution\n",
    "model.add(Conv2D(filters = 16, kernel_size = (5, 5),\n",
    "                 padding = 'same', activation = 'relu',\n",
    "                 kernel_initializer = 'he_normal', name = 'conv_2'))\n",
    "\n",
    "## Add the pooling layer (named pooling_2) to the graph\n",
    "## Filter size = 2 * 2, stride = 2\n",
    "## Not pad zero to the feature map boundary\n",
    "model.add(MaxPooling2D((2, 2), strides = 2, padding = 'valid',\n",
    "                       name = 'pooling_2'))\n",
    "\n",
    "## Reshape the feature map into vectors\n",
    "model.add(Flatten(name = 'flatten'))\n",
    "\n",
    "## Add the fully connected layer (named fs_1) to the graph\n",
    "## Units = 120, activation function = relu\n",
    "## Weight initializer following normal distribution\n",
    "## Weight shape = (784, 120)\n",
    "model.add(Dense(120, activation = 'relu',\n",
    "                kernel_initializer = 'he_normal', name = 'fs_1'))\n",
    "\n",
    "## Add the fully connected layer (named fs_2) to the graph\n",
    "## Units = 84, activation function = relu\n",
    "## Weight initializer following normal distribution\n",
    "## Weight shape = (120, 84)\n",
    "model.add(Dense(84, activation = 'relu',\n",
    "                kernel_initializer = 'he_normal', name = 'fs_2'))\n",
    "\n",
    "## Add the output layer (named logit) to the graph\n",
    "## Units = 10, activation function = softmax(normalize)\n",
    "## Weight initializer following normal distribution\n",
    "## Weight shape = (84, 10)\n",
    "model.add(Dense(units = 10, activation = 'softmax',\n",
    "                kernel_initializer = 'he_normal', name = 'logit'))\n",
    "\n",
    "## Define the objection function and optimizer\n",
    "## Define the evaluation metrics: accuracy (for classification)\n",
    "model.compile(loss = 'categorical_crossentropy', optimizer = 'adam',\n",
    "              metrics = ['accuracy'])\n",
    "\n",
    "## Print the detail of the model\n",
    "model.summary()"
   ]
  },
  {
   "cell_type": "markdown",
   "metadata": {},
   "source": [
    "  "
   ]
  },
  {
   "cell_type": "markdown",
   "metadata": {},
   "source": [
    "## Train Model"
   ]
  },
  {
   "cell_type": "code",
   "execution_count": 4,
   "metadata": {},
   "outputs": [
    {
     "name": "stdout",
     "output_type": "stream",
     "text": [
      "Epoch 1/20\n",
      "600/600 [==============================] - 15s 24ms/step - loss: 0.1850 - accuracy: 0.9446 - val_loss: 0.0616 - val_accuracy: 0.9805\n",
      "Epoch 2/20\n",
      "600/600 [==============================] - 17s 28ms/step - loss: 0.0590 - accuracy: 0.9820 - val_loss: 0.0438 - val_accuracy: 0.9869\n",
      "Epoch 3/20\n",
      "600/600 [==============================] - 15s 26ms/step - loss: 0.0428 - accuracy: 0.9867 - val_loss: 0.0528 - val_accuracy: 0.9827\n",
      "Epoch 4/20\n",
      "600/600 [==============================] - 13s 22ms/step - loss: 0.0336 - accuracy: 0.9894 - val_loss: 0.0421 - val_accuracy: 0.9864\n",
      "Epoch 5/20\n",
      "600/600 [==============================] - 14s 23ms/step - loss: 0.0263 - accuracy: 0.9912 - val_loss: 0.0373 - val_accuracy: 0.9867\n",
      "Epoch 6/20\n",
      "600/600 [==============================] - 13s 22ms/step - loss: 0.0227 - accuracy: 0.9926 - val_loss: 0.0336 - val_accuracy: 0.9893\n",
      "Epoch 7/20\n",
      "600/600 [==============================] - 14s 23ms/step - loss: 0.0186 - accuracy: 0.9934 - val_loss: 0.0333 - val_accuracy: 0.9897\n",
      "Epoch 8/20\n",
      "600/600 [==============================] - 13s 21ms/step - loss: 0.0164 - accuracy: 0.9942 - val_loss: 0.0356 - val_accuracy: 0.9886\n",
      "Epoch 9/20\n",
      "600/600 [==============================] - 14s 23ms/step - loss: 0.0139 - accuracy: 0.9954 - val_loss: 0.0365 - val_accuracy: 0.9882\n",
      "Epoch 10/20\n",
      "600/600 [==============================] - 14s 23ms/step - loss: 0.0108 - accuracy: 0.9962 - val_loss: 0.0367 - val_accuracy: 0.9897\n",
      "Epoch 11/20\n",
      "600/600 [==============================] - 14s 23ms/step - loss: 0.0117 - accuracy: 0.9963 - val_loss: 0.0375 - val_accuracy: 0.9875\n",
      "Epoch 12/20\n",
      "600/600 [==============================] - 13s 21ms/step - loss: 0.0102 - accuracy: 0.9966 - val_loss: 0.0417 - val_accuracy: 0.9892\n",
      "Epoch 13/20\n",
      "600/600 [==============================] - 13s 22ms/step - loss: 0.0096 - accuracy: 0.9965 - val_loss: 0.0432 - val_accuracy: 0.9895\n",
      "Epoch 14/20\n",
      "600/600 [==============================] - 12s 21ms/step - loss: 0.0074 - accuracy: 0.9975 - val_loss: 0.0391 - val_accuracy: 0.9895\n",
      "Epoch 15/20\n",
      "600/600 [==============================] - 17s 28ms/step - loss: 0.0082 - accuracy: 0.9972 - val_loss: 0.0473 - val_accuracy: 0.9877\n",
      "Epoch 16/20\n",
      "600/600 [==============================] - 15s 25ms/step - loss: 0.0060 - accuracy: 0.9980 - val_loss: 0.0516 - val_accuracy: 0.9876\n",
      "Epoch 17/20\n",
      "600/600 [==============================] - 14s 23ms/step - loss: 0.0078 - accuracy: 0.9976 - val_loss: 0.0350 - val_accuracy: 0.9901\n",
      "Epoch 18/20\n",
      "600/600 [==============================] - 20s 33ms/step - loss: 0.0032 - accuracy: 0.9991 - val_loss: 0.0497 - val_accuracy: 0.9886\n",
      "Epoch 19/20\n",
      "600/600 [==============================] - 19s 31ms/step - loss: 0.0091 - accuracy: 0.9967 - val_loss: 0.0578 - val_accuracy: 0.9877\n",
      "Epoch 20/20\n",
      "600/600 [==============================] - 19s 31ms/step - loss: 0.0054 - accuracy: 0.9982 - val_loss: 0.0440 - val_accuracy: 0.9893\n"
     ]
    }
   ],
   "source": [
    "### Train the whole model using \"fit\" function\n",
    "### Epoch: Number of training loops\n",
    "### Shuffle: perturb order of the training data\n",
    "### Save the model (named MNIST_Project_model.h5)\n",
    "### Save the model only when the testing accuracy achieves the best\n",
    "history = model.fit(x_train, y_train, epochs = 20, \n",
    "                    validation_data = (x_test, y_test),\n",
    "                    shuffle = True, batch_size = 100, \n",
    "                    callbacks = [ModelCheckpoint('MNIST_Arranged_model.h5',\n",
    "                                                 monitor = 'val_accuracy',\n",
    "                                                 save_best_only = True)])"
   ]
  },
  {
   "cell_type": "markdown",
   "metadata": {},
   "source": [
    "  "
   ]
  },
  {
   "cell_type": "markdown",
   "metadata": {},
   "source": [
    "## Test Model"
   ]
  },
  {
   "cell_type": "code",
   "execution_count": 41,
   "metadata": {
    "scrolled": false
   },
   "outputs": [
    {
     "name": "stdout",
     "output_type": "stream",
     "text": [
      "n = 0\n"
     ]
    },
    {
     "data": {
      "image/png": "[encoded data removed]",
      "text/plain": [
       "<Figure size 432x288 with 1 Axes>"
      ]
     },
     "metadata": {
      "needs_background": "light"
     },
     "output_type": "display_data"
    },
    {
     "name": "stdout",
     "output_type": "stream",
     "text": [
      "Inference label: 7\n",
      "Ground truth label: 7\n",
      "------------------------------\n",
      "n = 2\n"
     ]
    },
    {
     "data": {
      "image/png": "[encoded data removed]",
      "text/plain": [
       "<Figure size 432x288 with 1 Axes>"
      ]
     },
     "metadata": {
      "needs_background": "light"
     },
     "output_type": "display_data"
    },
    {
     "name": "stdout",
     "output_type": "stream",
     "text": [
      "Inference label: 1\n",
      "Ground truth label: 1\n",
      "------------------------------\n",
      "n = 3\n"
     ]
    },
    {
     "data": {
      "image/png": "[encoded data removed]",
      "text/plain": [
       "<Figure size 432x288 with 1 Axes>"
      ]
     },
     "metadata": {
      "needs_background": "light"
     },
     "output_type": "display_data"
    },
    {
     "name": "stdout",
     "output_type": "stream",
     "text": [
      "Inference label: 0\n",
      "Ground truth label: 0\n",
      "------------------------------\n",
      "n = 8\n"
     ]
    },
    {
     "data": {
      "image/png": "[encoded data removed]",
      "text/plain": [
       "<Figure size 432x288 with 1 Axes>"
      ]
     },
     "metadata": {
      "needs_background": "light"
     },
     "output_type": "display_data"
    },
    {
     "name": "stdout",
     "output_type": "stream",
     "text": [
      "Inference label: 5\n",
      "Ground truth label: 5\n",
      "------------------------------\n",
      "n = 9\n"
     ]
    },
    {
     "data": {
      "image/png": "[encoded data removed]",
      "text/plain": [
       "<Figure size 432x288 with 1 Axes>"
      ]
     },
     "metadata": {
      "needs_background": "light"
     },
     "output_type": "display_data"
    },
    {
     "name": "stdout",
     "output_type": "stream",
     "text": [
      "Inference label: 9\n",
      "Ground truth label: 9\n",
      "------------------------------\n",
      "n = 10\n"
     ]
    },
    {
     "data": {
      "image/png": "[encoded data removed]",
      "text/plain": [
       "<Figure size 432x288 with 1 Axes>"
      ]
     },
     "metadata": {
      "needs_background": "light"
     },
     "output_type": "display_data"
    },
    {
     "name": "stdout",
     "output_type": "stream",
     "text": [
      "Inference label: 0\n",
      "Ground truth label: 0\n",
      "------------------------------\n",
      "n = 11\n"
     ]
    },
    {
     "data": {
      "image/png": "[encoded data removed]",
      "text/plain": [
       "<Figure size 432x288 with 1 Axes>"
      ]
     },
     "metadata": {
      "needs_background": "light"
     },
     "output_type": "display_data"
    },
    {
     "name": "stdout",
     "output_type": "stream",
     "text": [
      "Inference label: 6\n",
      "Ground truth label: 6\n",
      "------------------------------\n",
      "n = 12\n"
     ]
    },
    {
     "data": {
      "image/png": "[encoded data removed]",
      "text/plain": [
       "<Figure size 432x288 with 1 Axes>"
      ]
     },
     "metadata": {
      "needs_background": "light"
     },
     "output_type": "display_data"
    },
    {
     "name": "stdout",
     "output_type": "stream",
     "text": [
      "Inference label: 9\n",
      "Ground truth label: 9\n",
      "------------------------------\n",
      "n = 13\n"
     ]
    },
    {
     "data": {
      "image/png": "[encoded data removed]",
      "text/plain": [
       "<Figure size 432x288 with 1 Axes>"
      ]
     },
     "metadata": {
      "needs_background": "light"
     },
     "output_type": "display_data"
    },
    {
     "name": "stdout",
     "output_type": "stream",
     "text": [
      "Inference label: 0\n",
      "Ground truth label: 0\n",
      "------------------------------\n",
      "n = 14\n"
     ]
    },
    {
     "data": {
      "image/png": "[encoded data removed]",
      "text/plain": [
       "<Figure size 432x288 with 1 Axes>"
      ]
     },
     "metadata": {
      "needs_background": "light"
     },
     "output_type": "display_data"
    },
    {
     "name": "stdout",
     "output_type": "stream",
     "text": [
      "Inference label: 1\n",
      "Ground truth label: 1\n",
      "------------------------------\n",
      "n = 15\n"
     ]
    },
    {
     "data": {
      "image/png": "[encoded data removed]",
      "text/plain": [
       "<Figure size 432x288 with 1 Axes>"
      ]
     },
     "metadata": {
      "needs_background": "light"
     },
     "output_type": "display_data"
    },
    {
     "name": "stdout",
     "output_type": "stream",
     "text": [
      "Inference label: 5\n",
      "Ground truth label: 5\n",
      "------------------------------\n",
      "n = 16\n"
     ]
    },
    {
     "data": {
      "image/png": "[encoded data removed]",
      "text/plain": [
       "<Figure size 432x288 with 1 Axes>"
      ]
     },
     "metadata": {
      "needs_background": "light"
     },
     "output_type": "display_data"
    },
    {
     "name": "stdout",
     "output_type": "stream",
     "text": [
      "Inference label: 9\n",
      "Ground truth label: 9\n",
      "------------------------------\n",
      "n = 15\n"
     ]
    },
    {
     "data": {
      "image/png": "[encoded data removed]",
      "text/plain": [
       "<Figure size 432x288 with 1 Axes>"
      ]
     },
     "metadata": {
      "needs_background": "light"
     },
     "output_type": "display_data"
    },
    {
     "name": "stdout",
     "output_type": "stream",
     "text": [
      "Inference label: 5\n",
      "Ground truth label: 5\n",
      "------------------------------\n",
      "n = 16\n"
     ]
    },
    {
     "data": {
      "image/png": "[encoded data removed]",
      "text/plain": [
       "<Figure size 432x288 with 1 Axes>"
      ]
     },
     "metadata": {
      "needs_background": "light"
     },
     "output_type": "display_data"
    },
    {
     "name": "stdout",
     "output_type": "stream",
     "text": [
      "Inference label: 9\n",
      "Ground truth label: 9\n",
      "------------------------------\n",
      "n = 17\n"
     ]
    },
    {
     "data": {
      "image/png": "[encoded data removed]",
      "text/plain": [
       "<Figure size 432x288 with 1 Axes>"
      ]
     },
     "metadata": {
      "needs_background": "light"
     },
     "output_type": "display_data"
    },
    {
     "name": "stdout",
     "output_type": "stream",
     "text": [
      "Inference label: 7\n",
      "Ground truth label: 7\n",
      "------------------------------\n",
      "n = 18\n"
     ]
    },
    {
     "data": {
      "image/png": "[encoded data removed]",
      "text/plain": [
       "<Figure size 432x288 with 1 Axes>"
      ]
     },
     "metadata": {
      "needs_background": "light"
     },
     "output_type": "display_data"
    },
    {
     "name": "stdout",
     "output_type": "stream",
     "text": [
      "Inference label: 3\n",
      "Ground truth label: 3\n",
      "------------------------------\n",
      "n = 19\n"
     ]
    },
    {
     "data": {
      "image/png": "[encoded data removed]",
      "text/plain": [
       "<Figure size 432x288 with 1 Axes>"
      ]
     },
     "metadata": {
      "needs_background": "light"
     },
     "output_type": "display_data"
    },
    {
     "name": "stdout",
     "output_type": "stream",
     "text": [
      "Inference label: 4\n",
      "Ground truth label: 4\n",
      "------------------------------\n",
      "n = 90\n"
     ]
    },
    {
     "data": {
      "image/png": "[encoded data removed]",
      "text/plain": [
       "<Figure size 432x288 with 1 Axes>"
      ]
     },
     "metadata": {
      "needs_background": "light"
     },
     "output_type": "display_data"
    },
    {
     "name": "stdout",
     "output_type": "stream",
     "text": [
      "Inference label: 3\n",
      "Ground truth label: 3\n",
      "------------------------------\n",
      "n = 50\n"
     ]
    },
    {
     "data": {
      "image/png": "[encoded data removed]",
      "text/plain": [
       "<Figure size 432x288 with 1 Axes>"
      ]
     },
     "metadata": {
      "needs_background": "light"
     },
     "output_type": "display_data"
    },
    {
     "name": "stdout",
     "output_type": "stream",
     "text": [
      "Inference label: 6\n",
      "Ground truth label: 6\n",
      "------------------------------\n",
      "n = 56\n"
     ]
    },
    {
     "data": {
      "image/png": "[encoded data removed]",
      "text/plain": [
       "<Figure size 432x288 with 1 Axes>"
      ]
     },
     "metadata": {
      "needs_background": "light"
     },
     "output_type": "display_data"
    },
    {
     "name": "stdout",
     "output_type": "stream",
     "text": [
      "Inference label: 4\n",
      "Ground truth label: 4\n",
      "------------------------------\n",
      "n = 47\n"
     ]
    },
    {
     "data": {
      "image/png": "[encoded data removed]",
      "text/plain": [
       "<Figure size 432x288 with 1 Axes>"
      ]
     },
     "metadata": {
      "needs_background": "light"
     },
     "output_type": "display_data"
    },
    {
     "name": "stdout",
     "output_type": "stream",
     "text": [
      "Inference label: 2\n",
      "Ground truth label: 2\n",
      "------------------------------\n",
      "n = 36\n"
     ]
    },
    {
     "data": {
      "image/png": "[encoded data removed]",
      "text/plain": [
       "<Figure size 432x288 with 1 Axes>"
      ]
     },
     "metadata": {
      "needs_background": "light"
     },
     "output_type": "display_data"
    },
    {
     "name": "stdout",
     "output_type": "stream",
     "text": [
      "Inference label: 7\n",
      "Ground truth label: 7\n",
      "------------------------------\n",
      "n = 51\n"
     ]
    },
    {
     "data": {
      "image/png": "[encoded data removed]",
      "text/plain": [
       "<Figure size 432x288 with 1 Axes>"
      ]
     },
     "metadata": {
      "needs_background": "light"
     },
     "output_type": "display_data"
    },
    {
     "name": "stdout",
     "output_type": "stream",
     "text": [
      "Inference label: 3\n",
      "Ground truth label: 3\n",
      "------------------------------\n",
      "n = 37\n"
     ]
    },
    {
     "data": {
      "image/png": "[encoded data removed]",
      "text/plain": [
       "<Figure size 432x288 with 1 Axes>"
      ]
     },
     "metadata": {
      "needs_background": "light"
     },
     "output_type": "display_data"
    },
    {
     "name": "stdout",
     "output_type": "stream",
     "text": [
      "Inference label: 1\n",
      "Ground truth label: 1\n",
      "------------------------------\n",
      "n = 500\n"
     ]
    },
    {
     "data": {
      "image/png": "[encoded data removed]",
      "text/plain": [
       "<Figure size 432x288 with 1 Axes>"
      ]
     },
     "metadata": {
      "needs_background": "light"
     },
     "output_type": "display_data"
    },
    {
     "name": "stdout",
     "output_type": "stream",
     "text": [
      "Inference label: 3\n",
      "Ground truth label: 3\n",
      "------------------------------\n",
      "n = 79\n"
     ]
    },
    {
     "data": {
      "image/png": "[encoded data removed]",
      "text/plain": [
       "<Figure size 432x288 with 1 Axes>"
      ]
     },
     "metadata": {
      "needs_background": "light"
     },
     "output_type": "display_data"
    },
    {
     "name": "stdout",
     "output_type": "stream",
     "text": [
      "Inference label: 7\n",
      "Ground truth label: 7\n",
      "------------------------------\n",
      "n = 1965\n"
     ]
    },
    {
     "data": {
      "image/png": "[encoded data removed]",
      "text/plain": [
       "<Figure size 432x288 with 1 Axes>"
      ]
     },
     "metadata": {
      "needs_background": "light"
     },
     "output_type": "display_data"
    },
    {
     "name": "stdout",
     "output_type": "stream",
     "text": [
      "Inference label: 2\n",
      "Ground truth label: 2\n",
      "------------------------------\n",
      "n = 1966\n"
     ]
    },
    {
     "data": {
      "image/png": "[encoded data removed]",
      "text/plain": [
       "<Figure size 432x288 with 1 Axes>"
      ]
     },
     "metadata": {
      "needs_background": "light"
     },
     "output_type": "display_data"
    },
    {
     "name": "stdout",
     "output_type": "stream",
     "text": [
      "Inference label: 7\n",
      "Ground truth label: 7\n",
      "------------------------------\n",
      "n = 353\n"
     ]
    },
    {
     "data": {
      "image/png": "[encoded data removed]",
      "text/plain": [
       "<Figure size 432x288 with 1 Axes>"
      ]
     },
     "metadata": {
      "needs_background": "light"
     },
     "output_type": "display_data"
    },
    {
     "name": "stdout",
     "output_type": "stream",
     "text": [
      "Inference label: 6\n",
      "Ground truth label: 6\n",
      "------------------------------\n",
      "n = 232\n"
     ]
    },
    {
     "data": {
      "image/png": "[encoded data removed]",
      "text/plain": [
       "<Figure size 432x288 with 1 Axes>"
      ]
     },
     "metadata": {
      "needs_background": "light"
     },
     "output_type": "display_data"
    },
    {
     "name": "stdout",
     "output_type": "stream",
     "text": [
      "Inference label: 8\n",
      "Ground truth label: 8\n",
      "------------------------------\n",
      "n = "
     ]
    },
    {
     "ename": "KeyboardInterrupt",
     "evalue": "Interrupted by user",
     "output_type": "error",
     "traceback": [
      "\u001b[1;31m---------------------------------------------------------------------------\u001b[0m",
      "\u001b[1;31mKeyboardInterrupt\u001b[0m                         Traceback (most recent call last)",
      "\u001b[1;32m<ipython-input-41-0fba711bea44>\u001b[0m in \u001b[0;36m<module>\u001b[1;34m\u001b[0m\n\u001b[0;32m     19\u001b[0m \u001b[1;32mwhile\u001b[0m \u001b[1;32mTrue\u001b[0m\u001b[1;33m:\u001b[0m\u001b[1;33m\u001b[0m\u001b[1;33m\u001b[0m\u001b[0m\n\u001b[0;32m     20\u001b[0m     \u001b[0mprint\u001b[0m\u001b[1;33m(\u001b[0m\u001b[1;34m\"n = \"\u001b[0m\u001b[1;33m,\u001b[0m \u001b[0mend\u001b[0m \u001b[1;33m=\u001b[0m \u001b[1;34m''\u001b[0m\u001b[1;33m)\u001b[0m\u001b[1;33m\u001b[0m\u001b[1;33m\u001b[0m\u001b[0m\n\u001b[1;32m---> 21\u001b[1;33m     \u001b[0mn\u001b[0m \u001b[1;33m=\u001b[0m \u001b[0mint\u001b[0m\u001b[1;33m(\u001b[0m\u001b[0minput\u001b[0m\u001b[1;33m(\u001b[0m\u001b[1;33m)\u001b[0m\u001b[1;33m)\u001b[0m\u001b[1;33m\u001b[0m\u001b[1;33m\u001b[0m\u001b[0m\n\u001b[0m\u001b[0;32m     22\u001b[0m     \u001b[0max\u001b[0m \u001b[1;33m=\u001b[0m \u001b[0mplt\u001b[0m\u001b[1;33m.\u001b[0m\u001b[0msubplot\u001b[0m\u001b[1;33m(\u001b[0m\u001b[1;33m)\u001b[0m\u001b[1;33m\u001b[0m\u001b[1;33m\u001b[0m\u001b[0m\n\u001b[0;32m     23\u001b[0m     \u001b[0mplt\u001b[0m\u001b[1;33m.\u001b[0m\u001b[0mimshow\u001b[0m\u001b[1;33m(\u001b[0m\u001b[0mplot\u001b[0m\u001b[1;33m(\u001b[0m\u001b[0mx_test\u001b[0m\u001b[1;33m[\u001b[0m\u001b[0mn\u001b[0m\u001b[1;33m]\u001b[0m\u001b[1;33m)\u001b[0m\u001b[1;33m,\u001b[0m \u001b[0mcmap\u001b[0m \u001b[1;33m=\u001b[0m \u001b[1;34m'gray'\u001b[0m\u001b[1;33m)\u001b[0m\u001b[1;33m\u001b[0m\u001b[1;33m\u001b[0m\u001b[0m\n",
      "\u001b[1;32mC:\\ProgramData\\Anaconda3\\lib\\site-packages\\ipykernel\\kernelbase.py\u001b[0m in \u001b[0;36mraw_input\u001b[1;34m(self, prompt)\u001b[0m\n\u001b[0;32m    858\u001b[0m                 \u001b[1;34m\"raw_input was called, but this frontend does not support input requests.\"\u001b[0m\u001b[1;33m\u001b[0m\u001b[1;33m\u001b[0m\u001b[0m\n\u001b[0;32m    859\u001b[0m             )\n\u001b[1;32m--> 860\u001b[1;33m         return self._input_request(str(prompt),\n\u001b[0m\u001b[0;32m    861\u001b[0m             \u001b[0mself\u001b[0m\u001b[1;33m.\u001b[0m\u001b[0m_parent_ident\u001b[0m\u001b[1;33m,\u001b[0m\u001b[1;33m\u001b[0m\u001b[1;33m\u001b[0m\u001b[0m\n\u001b[0;32m    862\u001b[0m             \u001b[0mself\u001b[0m\u001b[1;33m.\u001b[0m\u001b[0m_parent_header\u001b[0m\u001b[1;33m,\u001b[0m\u001b[1;33m\u001b[0m\u001b[1;33m\u001b[0m\u001b[0m\n",
      "\u001b[1;32mC:\\ProgramData\\Anaconda3\\lib\\site-packages\\ipykernel\\kernelbase.py\u001b[0m in \u001b[0;36m_input_request\u001b[1;34m(self, prompt, ident, parent, password)\u001b[0m\n\u001b[0;32m    902\u001b[0m             \u001b[1;32mexcept\u001b[0m \u001b[0mKeyboardInterrupt\u001b[0m\u001b[1;33m:\u001b[0m\u001b[1;33m\u001b[0m\u001b[1;33m\u001b[0m\u001b[0m\n\u001b[0;32m    903\u001b[0m                 \u001b[1;31m# re-raise KeyboardInterrupt, to truncate traceback\u001b[0m\u001b[1;33m\u001b[0m\u001b[1;33m\u001b[0m\u001b[1;33m\u001b[0m\u001b[0m\n\u001b[1;32m--> 904\u001b[1;33m                 \u001b[1;32mraise\u001b[0m \u001b[0mKeyboardInterrupt\u001b[0m\u001b[1;33m(\u001b[0m\u001b[1;34m\"Interrupted by user\"\u001b[0m\u001b[1;33m)\u001b[0m \u001b[1;32mfrom\u001b[0m \u001b[1;32mNone\u001b[0m\u001b[1;33m\u001b[0m\u001b[1;33m\u001b[0m\u001b[0m\n\u001b[0m\u001b[0;32m    905\u001b[0m             \u001b[1;32mexcept\u001b[0m \u001b[0mException\u001b[0m \u001b[1;32mas\u001b[0m \u001b[0me\u001b[0m\u001b[1;33m:\u001b[0m\u001b[1;33m\u001b[0m\u001b[1;33m\u001b[0m\u001b[0m\n\u001b[0;32m    906\u001b[0m                 \u001b[0mself\u001b[0m\u001b[1;33m.\u001b[0m\u001b[0mlog\u001b[0m\u001b[1;33m.\u001b[0m\u001b[0mwarning\u001b[0m\u001b[1;33m(\u001b[0m\u001b[1;34m\"Invalid Message:\"\u001b[0m\u001b[1;33m,\u001b[0m \u001b[0mexc_info\u001b[0m\u001b[1;33m=\u001b[0m\u001b[1;32mTrue\u001b[0m\u001b[1;33m)\u001b[0m\u001b[1;33m\u001b[0m\u001b[1;33m\u001b[0m\u001b[0m\n",
      "\u001b[1;31mKeyboardInterrupt\u001b[0m: Interrupted by user"
     ]
    }
   ],
   "source": [
    "import numpy as np\n",
    "import keras\n",
    "from keras.datasets import mnist\n",
    "from keras.models import load_model\n",
    "import matplotlib.pyplot as plt\n",
    "\n",
    "(x_train, y_train), (x_test, y_test) = mnist.load_data()\n",
    "x_test = x_test.reshape(-1, 28, 28, 1) / 255\n",
    "y_test = keras.utils.to_categorical(y_test, 10)\n",
    "\n",
    "model_test = load_model('MNIST_Arranged_model.h5') \n",
    "\n",
    "### Plot testing data\n",
    "def plot(a):\n",
    "    a *= 255\n",
    "    a = a.astype(np.uint8)\n",
    "    return a.reshape(28, 28)\n",
    "\n",
    "while True:\n",
    "    print(\"n = \", end = '')\n",
    "    n = int(input())\n",
    "    ax = plt.subplot()\n",
    "    plt.imshow(plot(x_test[n]), cmap = 'gray')\n",
    "    ax.get_xaxis().set_visible(False)\n",
    "    ax.get_yaxis().set_visible(False)\n",
    "    plt.show()\n",
    "\n",
    "    ### Print inference results corresponding to the image we plot\n",
    "    prediction = model_test.predict(x_test[n].reshape(-1, 28, 28, 1))\n",
    "    print(\"Inference label: {}\".format(np.argmax(prediction, axis = 1)[0]))\n",
    "    print(\"Ground truth label: {}\".format(np.argmax(y_test[n], axis = 0))) \n",
    "    print('------------------------------')\n",
    "        # y_test[n] is one-hot-encoded, use np.argmax to decode"
   ]
  },
  {
   "cell_type": "markdown",
   "metadata": {},
   "source": [
    "## Predict Images from Homemade MNIST"
   ]
  },
  {
   "cell_type": "code",
   "execution_count": 43,
   "metadata": {
    "scrolled": true
   },
   "outputs": [
    {
     "name": "stdout",
     "output_type": "stream",
     "text": [
      "Select file: 8-2\n"
     ]
    },
    {
     "data": {
      "image/png": "[encoded data removed]",
      "text/plain": [
       "<Figure size 720x720 with 1 Axes>"
      ]
     },
     "metadata": {
      "needs_background": "light"
     },
     "output_type": "display_data"
    },
    {
     "name": "stdout",
     "output_type": "stream",
     "text": [
      "Inference label: 8\n",
      "Ground truth label: 8\n",
      "Certainty: 100.0%\n",
      "----------------------\n",
      "Select file: 8-6\n"
     ]
    },
    {
     "data": {
      "image/png": "[encoded data removed]",
      "text/plain": [
       "<Figure size 720x720 with 1 Axes>"
      ]
     },
     "metadata": {
      "needs_background": "light"
     },
     "output_type": "display_data"
    },
    {
     "name": "stdout",
     "output_type": "stream",
     "text": [
      "Inference label: 8\n",
      "Ground truth label: 8\n",
      "Certainty: 100.0%\n",
      "----------------------\n",
      "Select file: 8-4\n"
     ]
    },
    {
     "data": {
      "image/png": "[encoded data removed]",
      "text/plain": [
       "<Figure size 720x720 with 1 Axes>"
      ]
     },
     "metadata": {
      "needs_background": "light"
     },
     "output_type": "display_data"
    },
    {
     "name": "stdout",
     "output_type": "stream",
     "text": [
      "Inference label: 8\n",
      "Ground truth label: 8\n",
      "Certainty: 100.0%\n",
      "----------------------\n",
      "Select file: 9-4\n"
     ]
    },
    {
     "data": {
      "image/png": "[encoded data removed]",
      "text/plain": [
       "<Figure size 720x720 with 1 Axes>"
      ]
     },
     "metadata": {
      "needs_background": "light"
     },
     "output_type": "display_data"
    },
    {
     "name": "stdout",
     "output_type": "stream",
     "text": [
      "Inference label: 1\n",
      "Ground truth label: 9\n",
      "Certainty: 70.99999785423279%\n",
      "----------------------\n",
      "Select file: 9-3\n"
     ]
    },
    {
     "data": {
      "image/png": "[encoded data removed]",
      "text/plain": [
       "<Figure size 720x720 with 1 Axes>"
      ]
     },
     "metadata": {
      "needs_background": "light"
     },
     "output_type": "display_data"
    },
    {
     "name": "stdout",
     "output_type": "stream",
     "text": [
      "Inference label: 8\n",
      "Ground truth label: 9\n",
      "Certainty: 100.0%\n",
      "----------------------\n",
      "Select file: "
     ]
    },
    {
     "ename": "KeyboardInterrupt",
     "evalue": "Interrupted by user",
     "output_type": "error",
     "traceback": [
      "\u001b[1;31m---------------------------------------------------------------------------\u001b[0m",
      "\u001b[1;31mKeyboardInterrupt\u001b[0m                         Traceback (most recent call last)",
      "\u001b[1;32m<ipython-input-43-af509bb5771c>\u001b[0m in \u001b[0;36m<module>\u001b[1;34m\u001b[0m\n\u001b[0;32m     43\u001b[0m \u001b[1;32mwhile\u001b[0m \u001b[1;32mTrue\u001b[0m\u001b[1;33m:\u001b[0m\u001b[1;33m\u001b[0m\u001b[1;33m\u001b[0m\u001b[0m\n\u001b[0;32m     44\u001b[0m     \u001b[0mprint\u001b[0m\u001b[1;33m(\u001b[0m\u001b[1;34m\"Select file: \"\u001b[0m\u001b[1;33m,\u001b[0m \u001b[0mend\u001b[0m \u001b[1;33m=\u001b[0m \u001b[1;34m''\u001b[0m\u001b[1;33m)\u001b[0m\u001b[1;33m\u001b[0m\u001b[1;33m\u001b[0m\u001b[0m\n\u001b[1;32m---> 45\u001b[1;33m     \u001b[0ms\u001b[0m \u001b[1;33m=\u001b[0m \u001b[0minput\u001b[0m\u001b[1;33m(\u001b[0m\u001b[1;33m)\u001b[0m\u001b[1;33m\u001b[0m\u001b[1;33m\u001b[0m\u001b[0m\n\u001b[0m\u001b[0;32m     46\u001b[0m     \u001b[0mfilename\u001b[0m \u001b[1;33m=\u001b[0m \u001b[1;34m'C:/Users/user/.keras/datasets/homemadeMNIST/'\u001b[0m \u001b[1;33m+\u001b[0m \u001b[0ms\u001b[0m \u001b[1;33m+\u001b[0m \u001b[1;34m'.jpg'\u001b[0m\u001b[1;33m\u001b[0m\u001b[1;33m\u001b[0m\u001b[0m\n\u001b[0;32m     47\u001b[0m     \u001b[0mplt\u001b[0m\u001b[1;33m.\u001b[0m\u001b[0mfigure\u001b[0m\u001b[1;33m(\u001b[0m\u001b[0mfigsize\u001b[0m \u001b[1;33m=\u001b[0m \u001b[1;33m(\u001b[0m\u001b[1;36m10\u001b[0m\u001b[1;33m,\u001b[0m \u001b[1;36m10\u001b[0m\u001b[1;33m)\u001b[0m\u001b[1;33m)\u001b[0m\u001b[1;33m\u001b[0m\u001b[1;33m\u001b[0m\u001b[0m\n",
      "\u001b[1;32mC:\\ProgramData\\Anaconda3\\lib\\site-packages\\ipykernel\\kernelbase.py\u001b[0m in \u001b[0;36mraw_input\u001b[1;34m(self, prompt)\u001b[0m\n\u001b[0;32m    858\u001b[0m                 \u001b[1;34m\"raw_input was called, but this frontend does not support input requests.\"\u001b[0m\u001b[1;33m\u001b[0m\u001b[1;33m\u001b[0m\u001b[0m\n\u001b[0;32m    859\u001b[0m             )\n\u001b[1;32m--> 860\u001b[1;33m         return self._input_request(str(prompt),\n\u001b[0m\u001b[0;32m    861\u001b[0m             \u001b[0mself\u001b[0m\u001b[1;33m.\u001b[0m\u001b[0m_parent_ident\u001b[0m\u001b[1;33m,\u001b[0m\u001b[1;33m\u001b[0m\u001b[1;33m\u001b[0m\u001b[0m\n\u001b[0;32m    862\u001b[0m             \u001b[0mself\u001b[0m\u001b[1;33m.\u001b[0m\u001b[0m_parent_header\u001b[0m\u001b[1;33m,\u001b[0m\u001b[1;33m\u001b[0m\u001b[1;33m\u001b[0m\u001b[0m\n",
      "\u001b[1;32mC:\\ProgramData\\Anaconda3\\lib\\site-packages\\ipykernel\\kernelbase.py\u001b[0m in \u001b[0;36m_input_request\u001b[1;34m(self, prompt, ident, parent, password)\u001b[0m\n\u001b[0;32m    902\u001b[0m             \u001b[1;32mexcept\u001b[0m \u001b[0mKeyboardInterrupt\u001b[0m\u001b[1;33m:\u001b[0m\u001b[1;33m\u001b[0m\u001b[1;33m\u001b[0m\u001b[0m\n\u001b[0;32m    903\u001b[0m                 \u001b[1;31m# re-raise KeyboardInterrupt, to truncate traceback\u001b[0m\u001b[1;33m\u001b[0m\u001b[1;33m\u001b[0m\u001b[1;33m\u001b[0m\u001b[0m\n\u001b[1;32m--> 904\u001b[1;33m                 \u001b[1;32mraise\u001b[0m \u001b[0mKeyboardInterrupt\u001b[0m\u001b[1;33m(\u001b[0m\u001b[1;34m\"Interrupted by user\"\u001b[0m\u001b[1;33m)\u001b[0m \u001b[1;32mfrom\u001b[0m \u001b[1;32mNone\u001b[0m\u001b[1;33m\u001b[0m\u001b[1;33m\u001b[0m\u001b[0m\n\u001b[0m\u001b[0;32m    905\u001b[0m             \u001b[1;32mexcept\u001b[0m \u001b[0mException\u001b[0m \u001b[1;32mas\u001b[0m \u001b[0me\u001b[0m\u001b[1;33m:\u001b[0m\u001b[1;33m\u001b[0m\u001b[1;33m\u001b[0m\u001b[0m\n\u001b[0;32m    906\u001b[0m                 \u001b[0mself\u001b[0m\u001b[1;33m.\u001b[0m\u001b[0mlog\u001b[0m\u001b[1;33m.\u001b[0m\u001b[0mwarning\u001b[0m\u001b[1;33m(\u001b[0m\u001b[1;34m\"Invalid Message:\"\u001b[0m\u001b[1;33m,\u001b[0m \u001b[0mexc_info\u001b[0m\u001b[1;33m=\u001b[0m\u001b[1;32mTrue\u001b[0m\u001b[1;33m)\u001b[0m\u001b[1;33m\u001b[0m\u001b[1;33m\u001b[0m\u001b[0m\n",
      "\u001b[1;31mKeyboardInterrupt\u001b[0m: Interrupted by user"
     ]
    }
   ],
   "source": [
    "import numpy as np\n",
    "from PIL import Image\n",
    "from keras.preprocessing import image\n",
    "import matplotlib.pyplot as plt\n",
    "from keras.models import load_model\n",
    "\n",
    "arr_plot = []\n",
    "def predict(filename):\n",
    "    img = Image.open(filename).convert('L')\n",
    "    img = img.resize((3089, 3090))\n",
    "    if img.size[0] != 28 or img.size[1] != 28:\n",
    "        img = img.resize((28, 28))\n",
    "    arr = []\n",
    "    for i in range(28):\n",
    "        for j in range(28):\n",
    "            # The value from 0 to 1 means the color from white to black\n",
    "            pixel = 1.0 - float(img.getpixel((j, i))) / 255.0\n",
    "            # pixel = 255.0 - float(img.getpixel((j, i))) \n",
    "            if pixel < 0.3:\n",
    "                arr.append(0.0)\n",
    "            else:\n",
    "                arr.append(1.0)\n",
    "    arr_plot = np.array(arr).reshape(28, 28) * 255\n",
    "    arr_plot = arr_plot.astype(np.uint8)\n",
    "    arr1 = np.array(arr).reshape(1, 28, 28, 1)\n",
    "    prediction = model_test.predict(arr1)\n",
    "    return prediction\n",
    "\n",
    "\n",
    "def showimg(filename, title, i):\n",
    "    img = Image.open(filename).convert('L')\n",
    "    img = img.resize((3089, 3090))\n",
    "    if img.size[0] != 28 or img.size[1] != 28:\n",
    "        img = img.resize((28, 28))\n",
    "    im_list = np.asarray(img)\n",
    "    plt.subplot(1, 3, i)\n",
    "    plt.title(title)\n",
    "    plt.axis('off')\n",
    "    plt.imshow(im_list, cmap = 'gray')\n",
    "    \n",
    "model_test = load_model('MNIST_Arranged_model.h5') \n",
    "\n",
    "while True:\n",
    "    print(\"Select file: \", end = '')\n",
    "    s = input()\n",
    "    filename = 'C:/Users/user/.keras/datasets/homemadeMNIST/' + s + '.jpg'\n",
    "    plt.figure(figsize = (10, 10))\n",
    "    showimg(filename, 'query', 1)\n",
    "    plt.show()\n",
    "    prediction = predict(filename)\n",
    "    print(\"Inference label: {}\".format(np.argmax(prediction, axis = 1)[0]))\n",
    "    print(\"Ground truth label: {}\".format(filename[44])) \n",
    "    print(\"Certainty: {}%\".format(round(np.max(prediction), 2) * 100))\n",
    "    print('----------------------')\n"
   ]
  },
  {
   "cell_type": "markdown",
   "metadata": {},
   "source": [
    "    "
   ]
  },
  {
   "cell_type": "markdown",
   "metadata": {},
   "source": [
    "## Validation Loss of Predicting Homemade MNIST"
   ]
  },
  {
   "cell_type": "code",
   "execution_count": 40,
   "metadata": {},
   "outputs": [
    {
     "name": "stdout",
     "output_type": "stream",
     "text": [
      "Loss of digit 0: 15.38%    Certainty of digit 0: 90.84%\n",
      "Loss of digit 1: 46.15%    Certainty of digit 1: 86.78%\n",
      "Loss of digit 2: 38.46%    Certainty of digit 2: 96.01%\n",
      "Loss of digit 3: 15.38%    Certainty of digit 3: 89.37%\n",
      "Loss of digit 4: 38.46%    Certainty of digit 4: 91.29%\n",
      "Loss of digit 5: 23.08%    Certainty of digit 5: 95.95%\n",
      "Loss of digit 6: 23.08%    Certainty of digit 6: 90.66%\n",
      "Loss of digit 7: 15.38%    Certainty of digit 7: 82.09%\n",
      "Loss of digit 8: 15.38%    Certainty of digit 8: 91.94%\n",
      "Loss of digit 9: 84.62%    Certainty of digit 9: 87.21%\n",
      "Average Accuracy: 68.46%\n",
      "Average Loss: 31.54%\n",
      "Average Certainty: 90.21%\n"
     ]
    }
   ],
   "source": [
    "import numpy as np\n",
    "from PIL import Image\n",
    "from keras.preprocessing import image\n",
    "from keras.models import load_model\n",
    "\n",
    "def predict(filename):\n",
    "    img = Image.open(filename).convert('L')\n",
    "    img = img.resize((3089, 3090))\n",
    "    if img.size[0] != 28 or img.size[1] != 28:\n",
    "        img = img.resize((28, 28))\n",
    "    arr = []\n",
    "    for i in range(28):\n",
    "        for j in range(28):\n",
    "            # The value from 1 to 0 means the color from white to black\n",
    "            pixel = float(img.getpixel((j, i))) / 255.0\n",
    "            # pixel = 255.0 - float(img.getpixel((j, i))) \n",
    "            if pixel < 0.3:\n",
    "                arr.append(1.0)\n",
    "            else:\n",
    "                arr.append(0.0)\n",
    "    arr1 = np.array(arr).reshape(1, 28, 28, 1)\n",
    "    prediction = model_test.predict(arr1)\n",
    "    return prediction\n",
    "\n",
    "model_test = load_model('MNIST_Arranged_model.h5') \n",
    "\n",
    "base = 'C:/Users/user/.keras/datasets/homemadeMNIST/'\n",
    "loss = []\n",
    "certainty = []\n",
    "sumloss = 0\n",
    "sumcertainty = 0\n",
    "imax = 10\n",
    "jmax = 13\n",
    "for i in range(imax):\n",
    "    loss.append(0)\n",
    "    certainty.append(0)\n",
    "    for j in range(jmax):\n",
    "        filename = base + str(i) + '-' + str(j) + '.jpg'\n",
    "        prediction = predict(filename)\n",
    "        residuals = np.argmax(prediction, axis = 1)[0] != int(filename[44])\n",
    "        loss[i] += residuals\n",
    "        rate = np.max(prediction)\n",
    "        certainty[i] += rate\n",
    "    print('Loss of digit {}: {}%'.format(i, round(loss[i] / jmax * 100, 2)), end = '    ')\n",
    "    print('Certainty of digit {}: {}%'.format(i, round(certainty[i] / jmax * 100, 2)))\n",
    "    sumloss += loss[i] / jmax\n",
    "    sumcertainty += certainty[i] / jmax\n",
    "print('Average Accuracy: {}%'.format(round((1 - sumloss / imax) * 100, 2)))\n",
    "print('Average Loss: {}%'.format(round(sumloss / imax * 100, 2)))\n",
    "print('Average Certainty: {}%'.format(round(sumcertainty / imax * 100, 2)))\n"
   ]
  },
  {
   "cell_type": "code",
   "execution_count": null,
   "metadata": {},
   "outputs": [],
   "source": []
  }
 ],
 "metadata": {
  "kernelspec": {
   "display_name": "Python 3",
   "language": "python",
   "name": "python3"
  },
  "language_info": {
   "codemirror_mode": {
    "name": "ipython",
    "version": 3
   },
   "file_extension": ".py",
   "mimetype": "text/x-python",
   "name": "python",
   "nbconvert_exporter": "python",
   "pygments_lexer": "ipython3",
   "version": "3.8.3"
  }
 },
 "nbformat": 4,
 "nbformat_minor": 4
}
